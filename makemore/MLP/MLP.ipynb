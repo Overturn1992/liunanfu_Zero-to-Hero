{
 "cells": [
  {
   "cell_type": "code",
   "id": "initial_id",
   "metadata": {
    "collapsed": true,
    "ExecuteTime": {
     "end_time": "2025-02-23T06:55:58.825141Z",
     "start_time": "2025-02-23T06:52:47.216668Z"
    }
   },
   "source": [
    "import torch\n",
    "import torch.nn.functional as F\n",
    "\n",
    "words=open('names.txt','r').read().splitlines()\n",
    "chars=sorted(list(set(''.join(words))))\n",
    "stoi={s:i+1 for i,s in enumerate(chars)}\n",
    "stoi['.']=0\n",
    "itos={i:s for i,s in stoi.items()}\n",
    "\n",
    "block_size=3\n",
    "def build_dataset(words):\n",
    "    X, Y = [], []\n",
    "    for w in words:\n",
    "        context = [0] * block_size\n",
    "        for ch in w + '.':\n",
    "            ix = stoi[ch]\n",
    "            X.append(context)\n",
    "            Y.append(ix)\n",
    "            context = context[1:] + [ix]\n",
    "    X = torch.tensor(X)\n",
    "    Y = torch.tensor(Y)\n",
    "    return X,Y\n",
    "\n",
    "import random\n",
    "random.seed(42)\n",
    "random.shuffle(words)\n",
    "\n",
    "n1=int(len(words)*0.8)\n",
    "n2=int(len(words)*0.9)\n",
    "\n",
    "Xtr,Ytr=build_dataset(words[:n1])  #training\n",
    "Xdev,Ydev=build_dataset(words[n1:n2])  #development\n",
    "Xte,Yte=build_dataset(words[n2:])  #test\n",
    "\n",
    "g=torch.Generator().manual_seed(2147483647)\n",
    "C=torch.randn([27,10],generator=g)\n",
    "W1=torch.randn([30,200],generator=g)\n",
    "b1=torch.randn(200,generator=g)\n",
    "W2=torch.randn([200,27],generator=g)\n",
    "b2=torch.randn(27,generator=g)\n",
    "parameters=[W1, b1, W2, b2]\n",
    "for p in parameters:\n",
    "    p.requires_grad=True\n",
    "for i in range(200000):\n",
    "    ix=torch.randint(0,Xtr.shape[0],[32])\n",
    "    emb=C[Xtr[ix]]\n",
    "    h=torch.tanh(emb.view(-1,30)@W1+b1)\n",
    "    logits=h@W2+b2\n",
    "    loss=F.cross_entropy(logits,Ytr[ix])\n",
    "    for p in parameters:\n",
    "        p.grad=None\n",
    "    loss.backward()\n",
    "    lr=0.1 if i<100000 else 0.01\n",
    "    for p in parameters:\n",
    "        p.data+=-lr*p.grad\n",
    "\n",
    "emb=C[Xdev]\n",
    "h=torch.tanh(emb.view(-1,30)@W1+b1)\n",
    "logits=h@W2+b2\n",
    "loss=F.cross_entropy(logits,Ydev)\n",
    "print(loss.item())\n",
    "\n",
    "\n",
    "\n",
    "\n",
    "\n",
    "\n",
    "\n",
    "\n",
    "\n",
    "\n"
   ],
   "outputs": [
    {
     "name": "stdout",
     "output_type": "stream",
     "text": [
      "2.150751829147339\n"
     ]
    }
   ],
   "execution_count": 2
  },
  {
   "metadata": {
    "ExecuteTime": {
     "end_time": "2025-02-23T07:03:25.054343Z",
     "start_time": "2025-02-23T07:03:25.017051Z"
    }
   },
   "cell_type": "code",
   "source": [
    "\n",
    "# sample from the model\n",
    "g = torch.Generator().manual_seed(2147483647 + 10)\n",
    "\n",
    "for _ in range(20):\n",
    "\n",
    "    out = []\n",
    "    context = [0] * block_size # initialize with all ...\n",
    "    while True:\n",
    "      emb = C[torch.tensor([context])] # (1,block_size,d)\n",
    "      h = torch.tanh(emb.view(1, -1) @ W1 + b1)\n",
    "      logits = h @ W2 + b2\n",
    "      probs = F.softmax(logits, dim=1)\n",
    "      ix = torch.multinomial(probs, num_samples=1, generator=g).item()\n",
    "      context = context[1:] + [ix]\n",
    "      out.append(ix)\n",
    "      if ix == 0:\n",
    "        break\n",
    "\n",
    "    print(''.join(itos[i] for i in out))"
   ],
   "id": "e80da3b2f512bd46",
   "outputs": [
    {
     "ename": "KeyError",
     "evalue": "5",
     "output_type": "error",
     "traceback": [
      "\u001B[1;31m---------------------------------------------------------------------------\u001B[0m",
      "\u001B[1;31mKeyError\u001B[0m                                  Traceback (most recent call last)",
      "Cell \u001B[1;32mIn[5], line 19\u001B[0m\n\u001B[0;32m     16\u001B[0m   \u001B[38;5;28;01mif\u001B[39;00m ix \u001B[38;5;241m==\u001B[39m \u001B[38;5;241m0\u001B[39m:\n\u001B[0;32m     17\u001B[0m     \u001B[38;5;28;01mbreak\u001B[39;00m\n\u001B[1;32m---> 19\u001B[0m \u001B[38;5;28mprint\u001B[39m(\u001B[38;5;124m'\u001B[39m\u001B[38;5;124m'\u001B[39m\u001B[38;5;241m.\u001B[39mjoin(itos[i] \u001B[38;5;28;01mfor\u001B[39;00m i \u001B[38;5;129;01min\u001B[39;00m out))\n",
      "Cell \u001B[1;32mIn[5], line 19\u001B[0m, in \u001B[0;36m<genexpr>\u001B[1;34m(.0)\u001B[0m\n\u001B[0;32m     16\u001B[0m   \u001B[38;5;28;01mif\u001B[39;00m ix \u001B[38;5;241m==\u001B[39m \u001B[38;5;241m0\u001B[39m:\n\u001B[0;32m     17\u001B[0m     \u001B[38;5;28;01mbreak\u001B[39;00m\n\u001B[1;32m---> 19\u001B[0m \u001B[38;5;28mprint\u001B[39m(\u001B[38;5;124m'\u001B[39m\u001B[38;5;124m'\u001B[39m\u001B[38;5;241m.\u001B[39mjoin(itos[i] \u001B[38;5;28;01mfor\u001B[39;00m i \u001B[38;5;129;01min\u001B[39;00m out))\n",
      "\u001B[1;31mKeyError\u001B[0m: 5"
     ]
    }
   ],
   "execution_count": 5
  },
  {
   "metadata": {},
   "cell_type": "code",
   "outputs": [],
   "execution_count": null,
   "source": "",
   "id": "1e9680147bcac334"
  }
 ],
 "metadata": {
  "kernelspec": {
   "display_name": "Python 3",
   "language": "python",
   "name": "python3"
  },
  "language_info": {
   "codemirror_mode": {
    "name": "ipython",
    "version": 2
   },
   "file_extension": ".py",
   "mimetype": "text/x-python",
   "name": "python",
   "nbconvert_exporter": "python",
   "pygments_lexer": "ipython2",
   "version": "2.7.6"
  }
 },
 "nbformat": 4,
 "nbformat_minor": 5
}
